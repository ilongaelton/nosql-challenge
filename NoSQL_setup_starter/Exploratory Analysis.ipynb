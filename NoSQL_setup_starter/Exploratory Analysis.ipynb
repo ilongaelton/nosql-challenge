{
 "cells": [
  {
   "cell_type": "code",
   "execution_count": 41,
   "metadata": {},
   "outputs": [
    {
     "name": "stdout",
     "output_type": "stream",
     "text": [
      "Requirement already satisfied: pandas in c:\\users\\haylton ilonga\\appdata\\local\\programs\\python\\python313\\lib\\site-packages (2.2.3)\n",
      "Requirement already satisfied: numpy>=1.26.0 in c:\\users\\haylton ilonga\\appdata\\local\\programs\\python\\python313\\lib\\site-packages (from pandas) (2.2.3)\n",
      "Requirement already satisfied: python-dateutil>=2.8.2 in c:\\users\\haylton ilonga\\appdata\\roaming\\python\\python313\\site-packages (from pandas) (2.9.0.post0)\n",
      "Requirement already satisfied: pytz>=2020.1 in c:\\users\\haylton ilonga\\appdata\\local\\programs\\python\\python313\\lib\\site-packages (from pandas) (2025.1)\n",
      "Requirement already satisfied: tzdata>=2022.7 in c:\\users\\haylton ilonga\\appdata\\local\\programs\\python\\python313\\lib\\site-packages (from pandas) (2025.1)\n",
      "Requirement already satisfied: six>=1.5 in c:\\users\\haylton ilonga\\appdata\\roaming\\python\\python313\\site-packages (from python-dateutil>=2.8.2->pandas) (1.17.0)\n",
      "Note: you may need to restart the kernel to use updated packages.\n"
     ]
    },
    {
     "name": "stderr",
     "output_type": "stream",
     "text": [
      "\n",
      "[notice] A new release of pip is available: 24.3.1 -> 25.0.1\n",
      "[notice] To update, run: python.exe -m pip install --upgrade pip\n"
     ]
    }
   ],
   "source": [
    "pip install pandas"
   ]
  },
  {
   "cell_type": "code",
   "execution_count": 42,
   "metadata": {},
   "outputs": [
    {
     "name": "stdout",
     "output_type": "stream",
     "text": [
      "Number of establishments with hygiene score 20: 0\n"
     ]
    }
   ],
   "source": [
    "import pandas as pd \n",
    "from pymongo import MongoClient\n",
    "from pprint import pprint\n",
    "\n",
    "\n",
    "# Establish a connection to the MongoDB server\n",
    "client = MongoClient('mongodb://localhost:27017/')\n",
    "\n",
    "# Define the database\n",
    "db = client['your_database_name']  # Replace 'your_database_name' with the actual database name\n",
    "\n",
    "# Find establishments with hygiene score equal to 20\n",
    "hygiene_20 = db.establishments.find({\"scores.Hygiene\": 20})\n",
    "\n",
    "# Count the number of such documents\n",
    "hygiene_20_count = db.establishments.count_documents({\"scores.Hygiene\": 20})\n",
    "\n",
    "# Print the count\n",
    "print(f\"Number of establishments with hygiene score 20: {hygiene_20_count}\")\n",
    "\n",
    "# Print the documents\n",
    "for establishment in hygiene_20:\n",
    "    pprint(establishment)"
   ]
  },
  {
   "cell_type": "code",
   "execution_count": 43,
   "metadata": {},
   "outputs": [
    {
     "name": "stdout",
     "output_type": "stream",
     "text": [
      "No establishments found with high rating in London.\n"
     ]
    }
   ],
   "source": [
    "# Establish a connection to the MongoDB server\n",
    "client = MongoClient('mongodb://localhost:27017/')\n",
    "\n",
    "# Define the database\n",
    "db = client['your_database_name'] \n",
    "\n",
    "# Define the query\n",
    "query = {\"LocalAuthorityName\": \"London\", \"scores.Hygiene\": {\"$gte\": 20}}\n",
    "\n",
    "# Find establishments with high rating in London\n",
    "london_high_rating = db.establishments.find(query)\n",
    "\n",
    "# Check if the cursor has any documents\n",
    "if db.establishments.count_documents(query) > 0:\n",
    "    # Print the first document\n",
    "    first_london_high_rating = london_high_rating[0]\n",
    "    pprint(first_london_high_rating)\n",
    "\n",
    "    # Convert to Pandas DataFrame\n",
    "    london_high_rating_df = pd.DataFrame(list(london_high_rating))\n",
    "    print(f\"Number of rows in the DataFrame: {len(london_high_rating_df)}\")\n",
    "    print(london_high_rating_df.head(10))\n",
    "else:\n",
    "    print(\"No establishments found with high rating in London.\")"
   ]
  },
  {
   "cell_type": "code",
   "execution_count": 44,
   "metadata": {},
   "outputs": [
    {
     "name": "stdout",
     "output_type": "stream",
     "text": [
      "Number of rows: 0\n",
      "Empty DataFrame\n",
      "Columns: []\n",
      "Index: []\n"
     ]
    }
   ],
   "source": [
    "# Find establishments with hygiene score equal to 20\n",
    "hygiene_score_20 = db.establishments.find({\"scores.Hygiene\": 20})\n",
    "\n",
    "# Convert to Pandas DataFrame\n",
    "df_hygiene_20 = pd.DataFrame(list(hygiene_score_20))\n",
    "print(f\"Number of rows: {len(df_hygiene_20)}\")\n",
    "print(df_hygiene_20.head(10))"
   ]
  },
  {
   "cell_type": "code",
   "execution_count": 45,
   "metadata": {},
   "outputs": [],
   "source": [
    "london_establishments = db.collection.find({\n",
    "    \"LocalAuthorityName\": {\"$regex\": \"London\", \"$options\": \"i\"},\n",
    "    \"RatingValue\": {\"$gte\": 4}\n",
    "})\n"
   ]
  },
  {
   "cell_type": "code",
   "execution_count": 46,
   "metadata": {},
   "outputs": [
    {
     "name": "stdout",
     "output_type": "stream",
     "text": [
      "Number of rows: 0\n",
      "Empty DataFrame\n",
      "Columns: []\n",
      "Index: []\n"
     ]
    }
   ],
   "source": [
    "df_london = pd.DataFrame(list(london_establishments))\n",
    "print(f\"Number of rows: {len(df_london)}\")\n",
    "print(df_london.head(10))\n"
   ]
  },
  {
   "cell_type": "code",
   "execution_count": 47,
   "metadata": {},
   "outputs": [
    {
     "name": "stdout",
     "output_type": "stream",
     "text": [
      "Penang Flavours not found in the database.\n"
     ]
    }
   ],
   "source": [
    "# Find the document for \"Penang Flavours\"\n",
    "penang_flavours = db.establishments.find_one({\"Name\": \"Penang Flavours\"})\n",
    "\n",
    "# Check if the document was found\n",
    "if penang_flavours:\n",
    "    penang_lat = penang_flavours[\"geocode\"][\"latitude\"]\n",
    "    penang_lon = penang_flavours[\"geocode\"][\"longitude\"]\n",
    "    print(f\"Penang Flavours Latitude: {penang_lat}, Longitude: {penang_lon}\")\n",
    "else:\n",
    "    print(\"Penang Flavours not found in the database.\")"
   ]
  },
  {
   "cell_type": "code",
   "execution_count": 48,
   "metadata": {},
   "outputs": [],
   "source": [
    "hygiene_zero_aggregation = db.collection.aggregate([\n",
    "    {\"$match\": {\"Hygiene\": 0}},\n",
    "    {\"$group\": {\"_id\": \"$LocalAuthorityName\", \"count\": {\"$sum\": 1}}},\n",
    "    {\"$sort\": {\"count\": -1}}\n",
    "])\n"
   ]
  },
  {
   "cell_type": "code",
   "execution_count": 49,
   "metadata": {},
   "outputs": [
    {
     "name": "stdout",
     "output_type": "stream",
     "text": [
      "Number of rows: 0\n",
      "Empty DataFrame\n",
      "Columns: []\n",
      "Index: []\n"
     ]
    }
   ],
   "source": [
    "df_hygiene_zero = pd.DataFrame(list(hygiene_zero_aggregation))\n",
    "print(f\"Number of rows: {len(df_hygiene_zero)}\")\n",
    "print(df_hygiene_zero.head(10))\n"
   ]
  }
 ],
 "metadata": {
  "kernelspec": {
   "display_name": "Python 3",
   "language": "python",
   "name": "python3"
  },
  "language_info": {
   "codemirror_mode": {
    "name": "ipython",
    "version": 3
   },
   "file_extension": ".py",
   "mimetype": "text/x-python",
   "name": "python",
   "nbconvert_exporter": "python",
   "pygments_lexer": "ipython3",
   "version": "3.13.2"
  }
 },
 "nbformat": 4,
 "nbformat_minor": 2
}
